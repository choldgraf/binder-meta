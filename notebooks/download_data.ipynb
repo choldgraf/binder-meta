{
 "cells": [
  {
   "cell_type": "code",
   "execution_count": 1,
   "metadata": {},
   "outputs": [],
   "source": [
    "import pandas as pd\n",
    "from tqdm import tqdm"
   ]
  },
  {
   "cell_type": "code",
   "execution_count": 2,
   "metadata": {},
   "outputs": [
    {
     "name": "stderr",
     "output_type": "stream",
     "text": [
      " 92%|█████████▏| 169/183 [27:21<02:16,  9.74s/it]/home/choldgraf/anaconda/envs/dev/lib/python3.7/site-packages/pandas/core/frame.py:7116: FutureWarning: Sorting because non-concatenation axis is not aligned. A future version\n",
      "of pandas will change to not sort by default.\n",
      "\n",
      "To accept the future behavior, pass 'sort=False'.\n",
      "\n",
      "To retain the current behavior and silence the warning, pass 'sort=True'.\n",
      "\n",
      "  sort=sort,\n",
      "100%|██████████| 183/183 [29:45<00:00,  9.76s/it]\n"
     ]
    }
   ],
   "source": [
    "dates = pd.date_range(\"2020-01-01\", \"2020-07-01\")\n",
    "data = pd.DataFrame()\n",
    "for idate in tqdm(dates):\n",
    "    url = f\"https://archive.analytics.mybinder.org/events-{idate:%Y-%m-%d}.jsonl\"\n",
    "    idata = pd.read_json(url, lines=True)\n",
    "    data = data.append(idata)"
   ]
  },
  {
   "cell_type": "code",
   "execution_count": 43,
   "metadata": {},
   "outputs": [],
   "source": [
    "# Prune some columns\n",
    "KEEP_COLS = [\"timestamp\", \"provider\", \"spec\", \"origin\"]\n",
    "data = data[KEEP_COLS]\n",
    "\n",
    "# Timestamp -> date\n",
    "data['date'] = data['timestamp'].dt.date\n",
    "data.drop('timestamp', axis=1, inplace=True)"
   ]
  },
  {
   "cell_type": "code",
   "execution_count": 56,
   "metadata": {},
   "outputs": [],
   "source": [
    "# Set the timestamps to count number of launches by day\n",
    "daily = (\n",
    "    data.groupby(['spec', 'provider', 'origin', 'date']).agg({\"spec\": \"count\"}).\n",
    "    rename(columns={'spec': 'launches'}).reset_index()\n",
    ")\n",
    "\n",
    "# Convert back to DT so we can split by month\n",
    "daily['date'] = pd.to_datetime(daily['date'])"
   ]
  },
  {
   "cell_type": "code",
   "execution_count": 76,
   "metadata": {},
   "outputs": [],
   "source": [
    "# Save to disk by month\n",
    "for month, idata in daily.groupby(pd.Grouper(freq='M', key='date')):\n",
    "    path_data = f\"../data/{month:%Y-%m}.json\"\n",
    "    idata.to_json(path_data)"
   ]
  }
 ],
 "metadata": {
  "kernelspec": {
   "display_name": "Python 3",
   "language": "python",
   "name": "python3"
  },
  "language_info": {
   "codemirror_mode": {
    "name": "ipython",
    "version": 3
   },
   "file_extension": ".py",
   "mimetype": "text/x-python",
   "name": "python",
   "nbconvert_exporter": "python",
   "pygments_lexer": "ipython3",
   "version": "3.7.3"
  }
 },
 "nbformat": 4,
 "nbformat_minor": 4
}
