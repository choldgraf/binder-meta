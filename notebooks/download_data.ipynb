{
 "cells": [
  {
   "cell_type": "code",
   "execution_count": 4,
   "metadata": {},
   "outputs": [],
   "source": [
    "import pandas as pd\n",
    "from rich.progress import track"
   ]
  },
  {
   "cell_type": "code",
   "execution_count": 10,
   "metadata": {},
   "outputs": [
    {
     "data": {
      "application/vnd.jupyter.widget-view+json": {
       "model_id": "5ea7ca8e63ec45898b8d91272480fdb3",
       "version_major": 2,
       "version_minor": 0
      },
      "text/plain": [
       "Output()"
      ]
     },
     "metadata": {},
     "output_type": "display_data"
    },
    {
     "data": {
      "text/html": [
       "<pre style=\"white-space:pre;overflow-x:auto;line-height:normal;font-family:Menlo,'DejaVu Sans Mono',consolas,'Courier New',monospace\">\n",
       "</pre>\n"
      ],
      "text/plain": [
       "\n"
      ]
     },
     "metadata": {},
     "output_type": "display_data"
    }
   ],
   "source": [
    "dates = pd.date_range(\"2020-10-01\", \"2021-11-01\")\n",
    "data = pd.DataFrame()\n",
    "for idate in track(dates):\n",
    "    url = f\"https://archive.analytics.mybinder.org/events-{idate:%Y-%m-%d}.jsonl\"\n",
    "    idata = pd.read_json(url, lines=True)\n",
    "    data = data.append(idata)"
   ]
  },
  {
   "cell_type": "code",
   "execution_count": 11,
   "metadata": {},
   "outputs": [],
   "source": [
    "# Prune some columns\n",
    "KEEP_COLS = [\"timestamp\", \"provider\", \"spec\", \"origin\"]\n",
    "data = data[KEEP_COLS]\n",
    "\n",
    "# Timestamp -> date\n",
    "data['date'] = data['timestamp'].dt.date\n",
    "data.drop('timestamp', axis=1, inplace=True)"
   ]
  },
  {
   "cell_type": "code",
   "execution_count": 12,
   "metadata": {},
   "outputs": [],
   "source": [
    "# Set the timestamps to count number of launches by day\n",
    "daily = (\n",
    "    data.groupby(['spec', 'provider', 'origin', 'date']).agg({\"spec\": \"count\"}).\n",
    "    rename(columns={'spec': 'launches'}).reset_index()\n",
    ")\n",
    "\n",
    "# Convert back to DT so we can split by month\n",
    "daily['date'] = pd.to_datetime(daily['date'])"
   ]
  },
  {
   "cell_type": "code",
   "execution_count": 13,
   "metadata": {},
   "outputs": [],
   "source": [
    "# Save to disk by month\n",
    "for month, idata in daily.groupby(pd.Grouper(freq='M', key='date')):\n",
    "    path_data = f\"../data/{month:%Y-%m}.json\"\n",
    "    idata.to_json(path_data)"
   ]
  },
  {
   "cell_type": "code",
   "execution_count": null,
   "metadata": {},
   "outputs": [],
   "source": []
  }
 ],
 "metadata": {
  "kernelspec": {
   "display_name": "Python 3 (ipykernel)",
   "language": "python",
   "name": "python3"
  },
  "language_info": {
   "codemirror_mode": {
    "name": "ipython",
    "version": 3
   },
   "file_extension": ".py",
   "mimetype": "text/x-python",
   "name": "python",
   "nbconvert_exporter": "python",
   "pygments_lexer": "ipython3",
   "version": "3.9.7"
  }
 },
 "nbformat": 4,
 "nbformat_minor": 4
}
